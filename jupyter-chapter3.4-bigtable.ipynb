{
 "cells": [
  {
   "cell_type": "markdown",
   "metadata": {},
   "source": [
    "#the GCloud BigTable example\n",
    "this illustrates how you can create a google big table.  It is important to understand that many of the \"create\" operators are asynchronous.  What this means that it may take some time for them to complete even though the function call has returned.  if you get an exception, just wait a minute and try again.  we could put a loop with try block and a sleep around each one of these blocks, but there must be an easier way."
   ]
  },
  {
   "cell_type": "code",
   "execution_count": 1,
   "metadata": {
    "collapsed": true
   },
   "outputs": [],
   "source": [
    "from gcloud import bigtable\n",
    "clientbt = bigtable.Client(admin=True)\n",
    "clientbt.start()\n"
   ]
  },
  {
   "cell_type": "code",
   "execution_count": 3,
   "metadata": {
    "collapsed": false
   },
   "outputs": [],
   "source": [
    "instance = clientbt.instance('cloud-book-instance')\n",
    "table = instance.table('book-table2')\n",
    "table.create()\n"
   ]
  },
  {
   "cell_type": "code",
   "execution_count": 4,
   "metadata": {
    "collapsed": true
   },
   "outputs": [],
   "source": [
    "column_family = table.column_family('cf')\n",
    "column_family.create()\n"
   ]
  },
  {
   "cell_type": "code",
   "execution_count": 5,
   "metadata": {
    "collapsed": true
   },
   "outputs": [],
   "source": [
    "row= table.row('key1')\n",
    "row.set_cell('cf', 'experiment', 'exp1')\n",
    "row.set_cell('cf', 'date', '6/6/16')\n",
    "row.set_cell('cf', 'link', 'http://some_location')\n",
    "row.commit()"
   ]
  },
  {
   "cell_type": "code",
   "execution_count": 6,
   "metadata": {
    "collapsed": true
   },
   "outputs": [],
   "source": [
    "row= table.row('key2')\n",
    "row.set_cell('cf', 'experiment', 'exp2')\n",
    "row.set_cell('cf', 'date', '6/7/16')\n",
    "row.set_cell('cf', 'link', 'http://some_other_location')\n",
    "row.commit()"
   ]
  },
  {
   "cell_type": "code",
   "execution_count": 7,
   "metadata": {
    "collapsed": true
   },
   "outputs": [],
   "source": [
    "row= table.row('key3')\n",
    "row.set_cell('cf', 'experiment', 'exp3')\n",
    "row.set_cell('cf', 'date', '6/11/16')\n",
    "row.set_cell('cf', 'link', 'http://a_good_location')\n",
    "row.commit()"
   ]
  },
  {
   "cell_type": "code",
   "execution_count": 8,
   "metadata": {
    "collapsed": true
   },
   "outputs": [],
   "source": [
    "keys = ['key1', 'key2', 'key3']"
   ]
  },
  {
   "cell_type": "code",
   "execution_count": 13,
   "metadata": {
    "collapsed": false
   },
   "outputs": [
    {
     "name": "stdout",
     "output_type": "stream",
     "text": [
      "['exp1', '6/6/16', 'http://some_location']\n",
      "['exp2', '6/7/16', 'http://some_other_location']\n",
      "['exp3', '6/11/16', 'http://a_good_location']\n"
     ]
    }
   ],
   "source": [
    "colnames = ['experiment', 'date', 'link']\n",
    "for key in keys:\n",
    "    row_data = table.read_row(key) \n",
    "    cells = row_data.cells['cf']\n",
    "    vals = [ cells[name][0].value for name in colnames]\n",
    "    print vals"
   ]
  },
  {
   "cell_type": "code",
   "execution_count": null,
   "metadata": {
    "collapsed": true
   },
   "outputs": [],
   "source": []
  }
 ],
 "metadata": {
  "kernelspec": {
   "display_name": "Python 2",
   "language": "python",
   "name": "python2"
  },
  "language_info": {
   "codemirror_mode": {
    "name": "ipython",
    "version": 2
   },
   "file_extension": ".py",
   "mimetype": "text/x-python",
   "name": "python",
   "nbconvert_exporter": "python",
   "pygments_lexer": "ipython2",
   "version": "2.7.9"
  }
 },
 "nbformat": 4,
 "nbformat_minor": 0
}
