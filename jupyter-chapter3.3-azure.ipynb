{
 "cells": [
  {
   "cell_type": "markdown",
   "metadata": {},
   "source": [
    "#Azure Storage Service Demo\n",
    "If you have not installed azure and azure-storage un-comment the pip below."
   ]
  },
  {
   "cell_type": "code",
   "execution_count": 1,
   "metadata": {
    "collapsed": false
   },
   "outputs": [],
   "source": [
    "#!pip install --upgrade azure-storage"
   ]
  },
  {
   "cell_type": "code",
   "execution_count": 1,
   "metadata": {
    "collapsed": false,
    "scrolled": true
   },
   "outputs": [
    {
     "name": "stdout",
     "output_type": "stream",
     "text": [
      "hello atThu Jul 07 16:28:32 2016\n"
     ]
    }
   ],
   "source": [
    "import csv\n",
    "import sys\n",
    "import azure.storage\n",
    "from azure.storage.table import TableService, Entity\n",
    "from azure.storage.blob import BlockBlobService\n",
    "from azure.storage.blob import PublicAccess\n",
    "import time\n",
    "print \"hello at\" + time.asctime(time.localtime(time.time()))"
   ]
  },
  {
   "cell_type": "markdown",
   "metadata": {},
   "source": [
    "follow the instructions in the book to create a storage account.   the one used here is \"escistore\", but you will want to pick something else and replace that name everywhere below"
   ]
  },
  {
   "cell_type": "code",
   "execution_count": 9,
   "metadata": {
    "collapsed": false
   },
   "outputs": [
    {
     "data": {
      "text/plain": [
       "True"
      ]
     },
     "execution_count": 9,
     "metadata": {},
     "output_type": "execute_result"
    }
   ],
   "source": [
    "block_blob_service = BlockBlobService(account_name='escistore',\n",
    "    account_key='Your account key')\n",
    "block_blob_service.create_container('datacont', \n",
    "                                    public_access=PublicAccess.Container)"
   ]
  },
  {
   "cell_type": "code",
   "execution_count": 3,
   "metadata": {
    "collapsed": true
   },
   "outputs": [],
   "source": [
    "table_service = TableService(account_name='escistore', \n",
    "                             account_key='your storage account key... same as above')"
   ]
  },
  {
   "cell_type": "code",
   "execution_count": 4,
   "metadata": {
    "collapsed": false
   },
   "outputs": [
    {
     "name": "stdout",
     "output_type": "stream",
     "text": [
      "table already there\n"
     ]
    }
   ],
   "source": [
    "if table_service.create_table('DataTable'):\n",
    "    print \"table created\"\n",
    "else:\n",
    "    print \"table already there\""
   ]
  },
  {
   "cell_type": "markdown",
   "metadata": {
    "collapsed": false
   },
   "source": [
    "Now you need a directory with a csv file.  For example\n",
    "\n",
    "'experiment1', '1', '3/15/2002', 'exp1', 'this is the comment'\n",
    "\n",
    "'experiment1', '2', '3/15/2002', 'exp2', 'this is the comment2'\n",
    "\n",
    "'experiment2', '3', '3/16/2002', 'exp3', 'this is the comment3'\n",
    "\n",
    "'experiment3', '4', '3/16/2002', 'exp4', 'this is the comment233'\n",
    "\n",
    "now you need a directory datafiles that has four blobs of any type.  call them exp1, exp2, exp3, exp4.  \n",
    "the code below will upload the data blobs into the container \"datacont\", then create the url and upload the metadata into the table \"DataTable\"."
   ]
  },
  {
   "cell_type": "code",
   "execution_count": null,
   "metadata": {
    "collapsed": false
   },
   "outputs": [],
   "source": [
    " with open('c:\\users\\dennis\\documents\\experiments.csv', 'rb') as csvfile:\n",
    "    csvf = csv.reader(csvfile, delimiter=',', quotechar='|')\n",
    "    for item in csvf:\n",
    "        print item\n",
    "        block_blob_service.create_blob_from_path(\n",
    "            'datacont', item[3],\n",
    "            \"c:\\users\\dennis\\documents\\datafiles\\\\\"+item[3]\n",
    "            )\n",
    "        url = \"https://escistore.blob.core.windows.net/datacont/\"+item[3]\n",
    "        metadata_item = {'PartitionKey': item[0], 'RowKey': item[1], \n",
    "                 'description' : item[4], 'date' : item[2], 'url':url} \n",
    "        table_service.insert_entity('DataTable', metadata_item)\n",
    "        "
   ]
  },
  {
   "cell_type": "markdown",
   "metadata": {
    "collapsed": false
   },
   "source": [
    "Next let's do a querry for experiment1 and project onto the urls.  it should print the urls created above"
   ]
  },
  {
   "cell_type": "code",
   "execution_count": null,
   "metadata": {
    "collapsed": false
   },
   "outputs": [],
   "source": [
    "tasks = table_service.query_entities('DataTable', filter=\"PartitionKey eq 'experiment1'\", select='url')\n",
    "for task in tasks:\n",
    "    print(task.url)"
   ]
  },
  {
   "cell_type": "markdown",
   "metadata": {
    "collapsed": false
   },
   "source": [
    "The output should look like\n",
    "\n",
    "https://escistore.blob.core.windows.net/datacont/exp1\n",
    "\n",
    "https://escistore.blob.core.windows.net/datacont/exp2\n"
   ]
  },
  {
   "cell_type": "code",
   "execution_count": null,
   "metadata": {
    "collapsed": true
   },
   "outputs": [],
   "source": []
  }
 ],
 "metadata": {
  "kernelspec": {
   "display_name": "Python 2",
   "language": "python",
   "name": "python2"
  },
  "language_info": {
   "codemirror_mode": {
    "name": "ipython",
    "version": 2
   },
   "file_extension": ".py",
   "mimetype": "text/x-python",
   "name": "python",
   "nbconvert_exporter": "python",
   "pygments_lexer": "ipython2",
   "version": "2.7.9"
  }
 },
 "nbformat": 4,
 "nbformat_minor": 0
}
