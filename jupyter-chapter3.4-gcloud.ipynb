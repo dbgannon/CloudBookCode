{
 "cells": [
  {
   "cell_type": "markdown",
   "metadata": {},
   "source": [
    "#The Google GCloud example \n",
    "This is the notebook that illustrates using gcloud datastore for section 3.4.\n",
    "notice that the authentication has already been established when we install gs"
   ]
  },
  {
   "cell_type": "code",
   "execution_count": 1,
   "metadata": {
    "collapsed": true
   },
   "outputs": [],
   "source": [
    "from gcloud import storage"
   ]
  },
  {
   "cell_type": "code",
   "execution_count": 2,
   "metadata": {
    "collapsed": true
   },
   "outputs": [],
   "source": [
    "client = storage.Client()"
   ]
  },
  {
   "cell_type": "code",
   "execution_count": 3,
   "metadata": {
    "collapsed": false
   },
   "outputs": [],
   "source": [
    "from gcloud import datastore\n",
    "clientds = datastore.Client()\n"
   ]
  },
  {
   "cell_type": "code",
   "execution_count": 4,
   "metadata": {
    "collapsed": true
   },
   "outputs": [],
   "source": [
    "import csv"
   ]
  },
  {
   "cell_type": "code",
   "execution_count": 10,
   "metadata": {
    "collapsed": false
   },
   "outputs": [],
   "source": [
    "bucket = client.bucket('book-datacont')\n",
    "key = clientds.key('book-table')"
   ]
  },
  {
   "cell_type": "code",
   "execution_count": 13,
   "metadata": {
    "collapsed": false
   },
   "outputs": [
    {
     "name": "stdout",
     "output_type": "stream",
     "text": [
      "['experiment1', '1', '3/15/2002', 'exp1', 'this is the comment']\n",
      "['experiment1', '2', '3/15/2002', 'exp2', 'this is the comment2']\n",
      "['experiment2', '3', '3/16/2002', 'exp3', 'this is the comment3']\n",
      "['experiment3', '4', '3/16/2002', 'exp4', 'this is the comment233']\n"
     ]
    }
   ],
   "source": [
    "with open('path to your csv file\\experiments.csv', 'rb') as csvfile:\n",
    "    csvf = csv.reader(csvfile, delimiter=',', quotechar='|')\n",
    "    for item in csvf:\n",
    "        print item\n",
    "        blob = bucket.blob(item[3])\n",
    "        data = open(\"path-to-your-datafiles\\datafiles\\\\\"+item[3], 'rb')\n",
    "        blob.upload_from_file(data)\n",
    "        blob.make_public()\n",
    "        url = \"https://storage.googleapis.com/book-datacont/\"+item[3]\n",
    "        entity = datastore.Entity(key=key)\n",
    "        entity['experiment-name'] = item[0]\n",
    "        entity['experiment-id'] = item[1]\n",
    "        entity['date'] = item[2]\n",
    "        entity['description'] = item[4]\n",
    "        entity['url'] = url\n",
    "        clientds.put(entity)"
   ]
  },
  {
   "cell_type": "code",
   "execution_count": 138,
   "metadata": {
    "collapsed": true
   },
   "outputs": [],
   "source": [
    "query = clientds.query(kind=u'book-table')"
   ]
  },
  {
   "cell_type": "code",
   "execution_count": 139,
   "metadata": {
    "collapsed": true
   },
   "outputs": [],
   "source": [
    "query.add_filter(u'experiment-name', '=', 'experiment1')"
   ]
  },
  {
   "cell_type": "code",
   "execution_count": 141,
   "metadata": {
    "collapsed": false
   },
   "outputs": [],
   "source": [
    "results = list(query.fetch())"
   ]
  },
  {
   "cell_type": "code",
   "execution_count": 145,
   "metadata": {
    "collapsed": false
   },
   "outputs": [],
   "source": [
    "urls = [result['url'] for result in results]"
   ]
  },
  {
   "cell_type": "code",
   "execution_count": 146,
   "metadata": {
    "collapsed": false
   },
   "outputs": [
    {
     "data": {
      "text/plain": [
       "['https://storage.googleapis.com/book-datacont/exp1',\n",
       " 'https://storage.googleapis.com/book-datacont/exp2']"
      ]
     },
     "execution_count": 146,
     "metadata": {},
     "output_type": "execute_result"
    }
   ],
   "source": [
    "urls"
   ]
  },
  {
   "cell_type": "code",
   "execution_count": null,
   "metadata": {
    "collapsed": true
   },
   "outputs": [],
   "source": []
  }
 ],
 "metadata": {
  "kernelspec": {
   "display_name": "Python 2",
   "language": "python",
   "name": "python2"
  },
  "language_info": {
   "codemirror_mode": {
    "name": "ipython",
    "version": 2
   },
   "file_extension": ".py",
   "mimetype": "text/x-python",
   "name": "python",
   "nbconvert_exporter": "python",
   "pygments_lexer": "ipython2",
   "version": "2.7.9"
  }
 },
 "nbformat": 4,
 "nbformat_minor": 0
}
